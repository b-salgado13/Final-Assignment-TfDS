{
 "cells": [
  {
   "cell_type": "markdown",
   "id": "40c6906f",
   "metadata": {},
   "source": [
    "# Data Science Tools and Ecosystem"
   ]
  },
  {
   "cell_type": "markdown",
   "id": "838f0387",
   "metadata": {},
   "source": [
    "## Author\n",
    "Bruno Ivan Salgado Molina"
   ]
  },
  {
   "cell_type": "markdown",
   "id": "3fb605f2",
   "metadata": {},
   "source": [
    "In this notebook, Data Science Tools and Ecosystem are summarized."
   ]
  },
  {
   "cell_type": "markdown",
   "id": "694d08f1",
   "metadata": {},
   "source": [
    "**Objectives:**\n",
    "- List popular languages for Data Science.\n",
    "- List commonly used libraries for Data Science.\n",
    "- List some open source tool for Data Science.\n",
    "- Review some ways to display information in Jupyter Notebook"
   ]
  },
  {
   "cell_type": "markdown",
   "id": "22f5e698",
   "metadata": {},
   "source": [
    "Some of the popular languges that Data Sciencists use are:\n",
    "1. Python\n",
    "2. SQL\n",
    "3. R\n",
    "4. Julia"
   ]
  },
  {
   "cell_type": "markdown",
   "id": "a8e4f72d",
   "metadata": {},
   "source": [
    "Some of the commonly used libraries used by Data Scientists include:\n",
    "1. Numpy (Python)\n",
    "2. Pandas (Python)\n",
    "3. ggplot (R)"
   ]
  },
  {
   "cell_type": "markdown",
   "id": "58408005",
   "metadata": {},
   "source": [
    "**Data Science Tools**|\n",
    "-----------|\n",
    "RStudio|\n",
    "Jupyter Lab/Jupyter Notebook|\n",
    "MySQL|\n",
    "GitHub|\n",
    "MongoDB|"
   ]
  },
  {
   "cell_type": "markdown",
   "id": "19476eef",
   "metadata": {},
   "source": [
    "### Below are a few examples of evaluating arithmetic expressions in Python"
   ]
  },
  {
   "cell_type": "code",
   "execution_count": 2,
   "id": "1f495a3e",
   "metadata": {},
   "outputs": [
    {
     "data": {
      "text/plain": [
       "17"
      ]
     },
     "execution_count": 2,
     "metadata": {},
     "output_type": "execute_result"
    }
   ],
   "source": [
    "(3*4)+5\n",
    "# This is a simple arithmetic expression to multiply and add integers"
   ]
  },
  {
   "cell_type": "code",
   "execution_count": 6,
   "id": "e34ff2c6",
   "metadata": {},
   "outputs": [
    {
     "name": "stdout",
     "output_type": "stream",
     "text": [
      "200 minutes are 3.3333333333333335 hours\n"
     ]
    }
   ],
   "source": [
    "print(200, \"minutes are\", 200/60, \"hours\")\n",
    "# This will convert 200 minutes to hours by dividing them by 60"
   ]
  }
 ],
 "metadata": {
  "kernelspec": {
   "display_name": "Python 3 (ipykernel)",
   "language": "python",
   "name": "python3"
  },
  "language_info": {
   "codemirror_mode": {
    "name": "ipython",
    "version": 3
   },
   "file_extension": ".py",
   "mimetype": "text/x-python",
   "name": "python",
   "nbconvert_exporter": "python",
   "pygments_lexer": "ipython3",
   "version": "3.11.4"
  }
 },
 "nbformat": 4,
 "nbformat_minor": 5
}
